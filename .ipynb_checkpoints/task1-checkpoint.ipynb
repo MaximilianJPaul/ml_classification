{
 "cells": [
  {
   "cell_type": "markdown",
   "id": "22698e7b",
   "metadata": {},
   "source": [
    "# Load Data"
   ]
  },
  {
   "cell_type": "code",
   "execution_count": null,
   "id": "0a3adf92",
   "metadata": {},
   "outputs": [],
   "source": [
    "import numpy as np\n",
    "import pandas as pd\n",
    "import glob\n",
    "from sklearn.neighbors import KNeighborsClassifier\n",
    "from sklearn.model_selection import KFold\n",
    "from sklearn.metrics import accuracy_score\n",
    "from sklearn.tree import DecisionTreeClassifier\n",
    "import matplotlib.pyplot as plt\n",
    "from sklearn.model_selection import train_test_split\n",
    "import time"
   ]
  },
  {
   "cell_type": "code",
   "execution_count": null,
   "id": "adfef866",
   "metadata": {},
   "outputs": [],
   "source": [
    "birds_labels = {\n",
    "    \"other\": 0,\n",
    "    \"comcuc\": 1,\n",
    "    \"cowpig1\": 2,\n",
    "    \"eucdov\": 3,\n",
    "    \"eueowl1\": 4,\n",
    "    \"grswoo\": 5,\n",
    "    \"tawowl1\": 6\n",
    "}\n",
    "\n",
    "birds = [bird for bird in list(birds_labels.keys()) if bird != \"other\"]"
   ]
  },
  {
   "cell_type": "code",
   "execution_count": null,
   "id": "ea748f2a",
   "metadata": {},
   "outputs": [],
   "source": [
    "def unique_rows(matrix):\n",
    "    indexes = []\n",
    "    labels = []\n",
    "    \n",
    "    for i, row in enumerate(matrix):\n",
    "        if np.unique(row).size == 1:\n",
    "            indexes.append(i)\n",
    "            labels.append(np.unique(row)[0])\n",
    "    \n",
    "    indexes = np.array(indexes)\n",
    "    labels = np.array(labels)\n",
    "    \n",
    "    return indexes, labels"
   ]
  },
  {
   "cell_type": "code",
   "execution_count": null,
   "id": "3dfe4113",
   "metadata": {},
   "outputs": [],
   "source": [
    "def load_data(bird):\n",
    "    labels = []\n",
    "    features = []\n",
    "    bird_id = birds_labels[bird]\n",
    "    \n",
    "    path = f'./data/{bird}/'\n",
    "    labels_files = glob.glob(path + '*labels.npy')\n",
    "    counter = None\n",
    "    \n",
    "    for i, file in enumerate(labels_files):\n",
    "        print(f'{bird}: {i + 1}/{len(labels_files)}', end='\\r')\n",
    "        counter = i\n",
    "        data_id = path + ''.join(file.split(\".labels.npy\")).split('/')[-1] + '.npy'\n",
    "        \n",
    "        annotations = np.load(file)\n",
    "        feature = np.load(data_id)\n",
    "        \n",
    "        ind, label = unique_rows(annotations)\n",
    "        \n",
    "        if len(ind) == 0:\n",
    "            continue\n",
    "        \n",
    "        labels.append(label)\n",
    "        features.append(feature[ind])\n",
    "\n",
    "    print('\\n')\n",
    "    labels = np.concatenate(labels)\n",
    "    features = np.concatenate(features)\n",
    "    \n",
    "    return labels, features"
   ]
  },
  {
   "cell_type": "code",
   "execution_count": null,
   "id": "7a9f2319",
   "metadata": {},
   "outputs": [],
   "source": [
    "X = []\n",
    "y = []\n",
    "\n",
    "for bird in birds:\n",
    "    labels, features = load_data(bird)\n",
    "    X.append(features)\n",
    "    y.append(labels)\n",
    "    \n",
    "X = np.concatenate(X)\n",
    "y = np.concatenate(y)"
   ]
  },
  {
   "cell_type": "markdown",
   "id": "14aed824",
   "metadata": {},
   "source": [
    "### Feature Selection"
   ]
  },
  {
   "cell_type": "code",
   "execution_count": null,
   "id": "b11901c4",
   "metadata": {},
   "outputs": [],
   "source": [
    "X_train, X_test, y_train, y_test = train_test_split(X, y, test_size=0.2, random_state=42)\n",
    "\n",
    "clf = DecisionTreeClassifier()\n",
    "clf.fit(X_train, y_train)\n",
    "y_pred = clf.predict(X_test)\n",
    "\n",
    "acc = accuracy_score(y_test, y_pred)"
   ]
  },
  {
   "cell_type": "code",
   "execution_count": null,
   "id": "c2f6c145",
   "metadata": {},
   "outputs": [],
   "source": [
    "importances = clf.feature_importances_\n",
    "k = 25\n",
    "indexes = np.argsort(importances)[::-1][:k]\n",
    "indexes"
   ]
  },
  {
   "cell_type": "code",
   "execution_count": null,
   "id": "267f3f96",
   "metadata": {},
   "outputs": [],
   "source": [
    "X_small = X[:, indexes]"
   ]
  },
  {
   "cell_type": "markdown",
   "id": "53b0d093",
   "metadata": {},
   "source": [
    "### KNN"
   ]
  },
  {
   "cell_type": "markdown",
   "id": "af4dbdcd",
   "metadata": {},
   "source": [
    "- All features"
   ]
  },
  {
   "cell_type": "code",
   "execution_count": 101,
   "id": "9159e628",
   "metadata": {},
   "outputs": [],
   "source": [
    "n_splits = 10\n",
    "kf = KFold(n_splits=n_splits, shuffle=True, random_state=42)\n",
    "average_accuracy = []"
   ]
  },
  {
   "cell_type": "code",
   "execution_count": 102,
   "id": "975c609a",
   "metadata": {},
   "outputs": [
    {
     "name": "stdout",
     "output_type": "stream",
     "text": [
      "k = 49\r"
     ]
    }
   ],
   "source": [
    "start_time = time.time()\n",
    "for k in range(1, 50, 2):\n",
    "    print(f'k = {k}', end='\\r')\n",
    "    accuracies = []\n",
    "    \n",
    "    for train_index, test_index in kf.split(X):\n",
    "        X_train, X_test = X[train_index], X[test_index]\n",
    "        y_train, y_test = y[train_index], y[test_index]\n",
    "\n",
    "        knn = KNeighborsClassifier(n_neighbors=k)\n",
    "        knn.fit(X_train, y_train)\n",
    "        y_pred = knn.predict(X_test)\n",
    "\n",
    "        accuracy = accuracy_score(y_test, y_pred)\n",
    "        accuracies.append(accuracy)\n",
    "    \n",
    "    average_accuracy.append(sum(accuracies) / len(accuracies))\n",
    "    \n",
    "elapsed_time = time.time() - start_time\n",
    "print(\"Elapsed time: \", elapsed_time, \"seconds\")"
   ]
  },
  {
   "cell_type": "code",
   "execution_count": 104,
   "id": "bc429600",
   "metadata": {},
   "outputs": [
    {
     "data": {
      "text/plain": [
       "Text(0, 0.5, 'accuracy')"
      ]
     },
     "execution_count": 104,
     "metadata": {},
     "output_type": "execute_result"
    },
    {
     "data": {
      "image/png": "[encoded data removed]",
      "text/plain": [
       "<Figure size 640x480 with 1 Axes>"
      ]
     },
     "metadata": {},
     "output_type": "display_data"
    }
   ],
   "source": [
    "plt.scatter(list(range(1, 50, 2)), average_accuracy)\n",
    "plt.title(\"KNN (consider only important features)\")\n",
    "plt.xlabel('k')\n",
    "plt.ylabel('accuracy')"
   ]
  },
  {
   "cell_type": "markdown",
   "id": "7f9a4cbf",
   "metadata": {},
   "source": [
    "- Important features"
   ]
  },
  {
   "cell_type": "code",
   "execution_count": 73,
   "id": "69176f2b",
   "metadata": {},
   "outputs": [],
   "source": [
    "kf = KFold(n_splits=10, shuffle=True, random_state=42)\n",
    "average_accuracy = []\n",
    "\n",
    "for k in range(1, 50, 2):\n",
    "    print(f'k = {k}', end='\\r')\n",
    "    accuracies = []\n",
    "    \n",
    "    for train_index, test_index in kf.split(X):\n",
    "        X_train, X_test = X[train_index], X[test_index]\n",
    "        y_train, y_test = y[train_index], y[test_index]\n",
    "\n",
    "        knn = KNeighborsClassifier(n_neighbors=k)\n",
    "        knn.fit(X_train, y_train)\n",
    "        y_pred = knn.predict(X_test)\n",
    "\n",
    "        accuracy = accuracy_score(y_test, y_pred)\n",
    "        accuracies.append(accuracy)\n",
    "    \n",
    "    average_accuracy.append(sum(accuracies) / len(accuracies))\n",
    "    \n",
    "plt.scatter(list(range(1, 50, 2)), average_accuracy)\n",
    "plt.title(\"KNN (consider all features)\")\n",
    "plt.xlabel('k')\n",
    "plt.ylabel('accuracy')"
   ]
  },
  {
   "cell_type": "markdown",
   "id": "74732b2c",
   "metadata": {},
   "source": [
    "### Decision Tree"
   ]
  },
  {
   "cell_type": "code",
   "execution_count": 34,
   "id": "b8335d39",
   "metadata": {},
   "outputs": [],
   "source": []
  },
  {
   "cell_type": "code",
   "execution_count": 70,
   "id": "d43a16fd",
   "metadata": {},
   "outputs": [
    {
     "data": {
      "text/plain": [
       "array([537,  22, 236,  25, 286, 265,  29, 538, 288,  21,  20,  23, 290,\n",
       "        61,  84, 271, 151,  83, 536, 402, 274, 152, 289, 139, 145, 137,\n",
       "       146, 539,  18, 300, 306, 270,  31, 293, 272, 264, 138,  17,  19,\n",
       "        27, 237, 287, 176, 291, 301,  46, 292, 294,  80,  16])"
      ]
     },
     "execution_count": 70,
     "metadata": {},
     "output_type": "execute_result"
    }
   ],
   "source": [
    "importances = clf.feature_importances_\n",
    "k = 50\n",
    "indexes = np.argsort(importances)[::-1][:k]\n",
    "indexes"
   ]
  },
  {
   "cell_type": "code",
   "execution_count": 71,
   "id": "ab96a2d4",
   "metadata": {},
   "outputs": [],
   "source": [
    "X = X[:, indexes]"
   ]
  },
  {
   "cell_type": "code",
   "execution_count": 25,
   "id": "e2f06354",
   "metadata": {},
   "outputs": [],
   "source": [
    "n_splits = 5\n",
    "kf = KFold(n_splits=n_splits, shuffle=True, random_state=42)\n",
    "average_accuracy = []\n",
    "criterions = [\"gini\", \"entropy\", \"log_loss\"]"
   ]
  },
  {
   "cell_type": "code",
   "execution_count": 26,
   "id": "9ab28383",
   "metadata": {},
   "outputs": [
    {
     "name": "stdout",
     "output_type": "stream",
     "text": [
      "gini\n",
      "0/5\n"
     ]
    },
    {
     "ename": "KeyboardInterrupt",
     "evalue": "",
     "output_type": "error",
     "traceback": [
      "\u001b[0;31m---------------------------------------------------------------------------\u001b[0m",
      "\u001b[0;31mKeyboardInterrupt\u001b[0m                         Traceback (most recent call last)",
      "Cell \u001b[0;32mIn[26], line 12\u001b[0m\n\u001b[1;32m      9\u001b[0m X_test, y_test \u001b[38;5;241m=\u001b[39m X[test_index], y[test_index]\n\u001b[1;32m     11\u001b[0m clf \u001b[38;5;241m=\u001b[39m DecisionTreeClassifier()\n\u001b[0;32m---> 12\u001b[0m clf\u001b[38;5;241m.\u001b[39mfit(X_train, y_train)\n\u001b[1;32m     13\u001b[0m y_pred \u001b[38;5;241m=\u001b[39m clf\u001b[38;5;241m.\u001b[39mpredict(X_test)\n\u001b[1;32m     15\u001b[0m acc \u001b[38;5;241m=\u001b[39m accuracy_score(y_test, y_pred)\n",
      "File \u001b[0;32m/opt/anaconda3/envs/machine_learning_pattern_classification/lib/python3.11/site-packages/sklearn/tree/_classes.py:889\u001b[0m, in \u001b[0;36mDecisionTreeClassifier.fit\u001b[0;34m(self, X, y, sample_weight, check_input)\u001b[0m\n\u001b[1;32m    859\u001b[0m \u001b[38;5;28;01mdef\u001b[39;00m \u001b[38;5;21mfit\u001b[39m(\u001b[38;5;28mself\u001b[39m, X, y, sample_weight\u001b[38;5;241m=\u001b[39m\u001b[38;5;28;01mNone\u001b[39;00m, check_input\u001b[38;5;241m=\u001b[39m\u001b[38;5;28;01mTrue\u001b[39;00m):\n\u001b[1;32m    860\u001b[0m     \u001b[38;5;124;03m\"\"\"Build a decision tree classifier from the training set (X, y).\u001b[39;00m\n\u001b[1;32m    861\u001b[0m \n\u001b[1;32m    862\u001b[0m \u001b[38;5;124;03m    Parameters\u001b[39;00m\n\u001b[0;32m   (...)\u001b[0m\n\u001b[1;32m    886\u001b[0m \u001b[38;5;124;03m        Fitted estimator.\u001b[39;00m\n\u001b[1;32m    887\u001b[0m \u001b[38;5;124;03m    \"\"\"\u001b[39;00m\n\u001b[0;32m--> 889\u001b[0m     \u001b[38;5;28msuper\u001b[39m()\u001b[38;5;241m.\u001b[39mfit(\n\u001b[1;32m    890\u001b[0m         X,\n\u001b[1;32m    891\u001b[0m         y,\n\u001b[1;32m    892\u001b[0m         sample_weight\u001b[38;5;241m=\u001b[39msample_weight,\n\u001b[1;32m    893\u001b[0m         check_input\u001b[38;5;241m=\u001b[39mcheck_input,\n\u001b[1;32m    894\u001b[0m     )\n\u001b[1;32m    895\u001b[0m     \u001b[38;5;28;01mreturn\u001b[39;00m \u001b[38;5;28mself\u001b[39m\n",
      "File \u001b[0;32m/opt/anaconda3/envs/machine_learning_pattern_classification/lib/python3.11/site-packages/sklearn/tree/_classes.py:379\u001b[0m, in \u001b[0;36mBaseDecisionTree.fit\u001b[0;34m(self, X, y, sample_weight, check_input)\u001b[0m\n\u001b[1;32m    368\u001b[0m \u001b[38;5;28;01melse\u001b[39;00m:\n\u001b[1;32m    369\u001b[0m     builder \u001b[38;5;241m=\u001b[39m BestFirstTreeBuilder(\n\u001b[1;32m    370\u001b[0m         splitter,\n\u001b[1;32m    371\u001b[0m         min_samples_split,\n\u001b[0;32m   (...)\u001b[0m\n\u001b[1;32m    376\u001b[0m         \u001b[38;5;28mself\u001b[39m\u001b[38;5;241m.\u001b[39mmin_impurity_decrease,\n\u001b[1;32m    377\u001b[0m     )\n\u001b[0;32m--> 379\u001b[0m builder\u001b[38;5;241m.\u001b[39mbuild(\u001b[38;5;28mself\u001b[39m\u001b[38;5;241m.\u001b[39mtree_, X, y, sample_weight)\n\u001b[1;32m    381\u001b[0m \u001b[38;5;28;01mif\u001b[39;00m \u001b[38;5;28mself\u001b[39m\u001b[38;5;241m.\u001b[39mn_outputs_ \u001b[38;5;241m==\u001b[39m \u001b[38;5;241m1\u001b[39m \u001b[38;5;129;01mand\u001b[39;00m is_classifier(\u001b[38;5;28mself\u001b[39m):\n\u001b[1;32m    382\u001b[0m     \u001b[38;5;28mself\u001b[39m\u001b[38;5;241m.\u001b[39mn_classes_ \u001b[38;5;241m=\u001b[39m \u001b[38;5;28mself\u001b[39m\u001b[38;5;241m.\u001b[39mn_classes_[\u001b[38;5;241m0\u001b[39m]\n",
      "\u001b[0;31mKeyboardInterrupt\u001b[0m: "
     ]
    }
   ],
   "source": [
    "for criterion in criterions:\n",
    "    print(criterion)\n",
    "    accuracies = []\n",
    "    \n",
    "    i = 0\n",
    "    for train_index, test_index in kf.split(X):\n",
    "        print(f'{i}/{n_splits}')\n",
    "        X_train, y_train = X[train_index], y[train_index]\n",
    "        X_test, y_test = X[test_index], y[test_index]\n",
    "\n",
    "        clf = DecisionTreeClassifier()\n",
    "        clf.fit(X_train, y_train)\n",
    "        y_pred = clf.predict(X_test)\n",
    "\n",
    "        acc = accuracy_score(y_test, y_pred)\n",
    "        accuracies.append(acc)\n",
    "        i += 1\n",
    "        \n",
    "    average_accuracy = sum(accuracies) / len(accuracies)\n",
    "\n",
    "    "
   ]
  },
  {
   "cell_type": "code",
   "execution_count": null,
   "id": "760d79a1",
   "metadata": {},
   "outputs": [],
   "source": []
  },
  {
   "cell_type": "code",
   "execution_count": null,
   "id": "3704382d",
   "metadata": {},
   "outputs": [],
   "source": []
  },
  {
   "cell_type": "code",
   "execution_count": null,
   "id": "03a7651a",
   "metadata": {},
   "outputs": [],
   "source": []
  },
  {
   "cell_type": "code",
   "execution_count": null,
   "id": "9f257e40",
   "metadata": {},
   "outputs": [],
   "source": []
  }
 ],
 "metadata": {
  "kernelspec": {
   "display_name": "Python 3 (ipykernel)",
   "language": "python",
   "name": "python3"
  },
  "language_info": {
   "codemirror_mode": {
    "name": "ipython",
    "version": 3
   },
   "file_extension": ".py",
   "mimetype": "text/x-python",
   "name": "python",
   "nbconvert_exporter": "python",
   "pygments_lexer": "ipython3",
   "version": "3.11.2"
  }
 },
 "nbformat": 4,
 "nbformat_minor": 5
}
