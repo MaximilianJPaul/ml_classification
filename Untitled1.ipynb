{
 "cells": [
  {
   "cell_type": "code",
   "execution_count": 4,
   "id": "24066f42",
   "metadata": {},
   "outputs": [],
   "source": [
    "%store -r X_small y"
   ]
  },
  {
   "cell_type": "code",
   "execution_count": 12,
   "id": "4196bfd2",
   "metadata": {},
   "outputs": [],
   "source": [
    "from sklearn.svm import SVC\n",
    "from sklearn.model_selection import cross_val_score"
   ]
  },
  {
   "cell_type": "code",
   "execution_count": 13,
   "id": "06542afc",
   "metadata": {},
   "outputs": [],
   "source": [
    "smv_classifier = SVC(kernel='linear')"
   ]
  },
  {
   "cell_type": "code",
   "execution_count": null,
   "id": "36cdb182",
   "metadata": {},
   "outputs": [],
   "source": [
    "k = 10\n",
    "scores = cross_val_score(smv_classifier, X_small, y, cv=k)"
   ]
  },
  {
   "cell_type": "code",
   "execution_count": null,
   "id": "bc7061e6",
   "metadata": {},
   "outputs": [],
   "source": []
  }
 ],
 "metadata": {
  "kernelspec": {
   "display_name": "Python 3 (ipykernel)",
   "language": "python",
   "name": "python3"
  },
  "language_info": {
   "codemirror_mode": {
    "name": "ipython",
    "version": 3
   },
   "file_extension": ".py",
   "mimetype": "text/x-python",
   "name": "python",
   "nbconvert_exporter": "python",
   "pygments_lexer": "ipython3",
   "version": "3.11.3"
  }
 },
 "nbformat": 4,
 "nbformat_minor": 5
}
