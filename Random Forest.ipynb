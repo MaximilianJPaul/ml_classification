{
 "cells": [
  {
   "cell_type": "code",
   "execution_count": 15,
   "id": "f997e972",
   "metadata": {},
   "outputs": [],
   "source": [
    "import numpy as np\n",
    "import glob\n",
    "import copy\n",
    "import matplotlib.pyplot as plt\n",
    "from sklearn.metrics import accuracy_score\n",
    "from sklearn.tree import DecisionTreeClassifier\n",
    "from sklearn.model_selection import train_test_split\n",
    "from sklearn.preprocessing import StandardScaler\n",
    "import torch.optim as optim\n",
    "from sklearn.metrics import accuracy_score\n",
    "import copy\n",
    "import torch.nn as nn\n",
    "import torch.nn.functional as F\n",
    "import torch\n",
    "from torch.utils.data import DataLoader, TensorDataset\n",
    "from sklearn.feature_selection import SelectKBest, chi2\n",
    "from sklearn.preprocessing import MinMaxScaler\n",
    "from sklearn.ensemble import RandomForestClassifier"
   ]
  },
  {
   "cell_type": "code",
   "execution_count": 16,
   "id": "f146be1d",
   "metadata": {},
   "outputs": [],
   "source": [
    "birds_labels = {\n",
    "    \"other\": 0,\n",
    "    \"comcuc\": 1,\n",
    "    \"cowpig1\": 2,\n",
    "    \"eucdov\": 3,\n",
    "    \"eueowl1\": 4,\n",
    "    \"grswoo\": 5,\n",
    "    \"tawowl1\": 6\n",
    "}\n",
    "\n",
    "birds = [bird for bird in list(birds_labels.keys()) if bird != \"other\"]"
   ]
  },
  {
   "cell_type": "code",
   "execution_count": 17,
   "id": "009fda5a",
   "metadata": {},
   "outputs": [],
   "source": [
    "def unique_rows(matrix):\n",
    "    indexes = []\n",
    "    labels = []\n",
    "    \n",
    "    for i, row in enumerate(matrix):\n",
    "        if np.unique(row).size == 1:\n",
    "            indexes.append(i)\n",
    "            labels.append(np.unique(row)[0])\n",
    "    \n",
    "    indexes = np.array(indexes)\n",
    "    labels = np.array(labels)\n",
    "    \n",
    "    return indexes, labels"
   ]
  },
  {
   "cell_type": "code",
   "execution_count": 18,
   "id": "5ec56ddb",
   "metadata": {},
   "outputs": [],
   "source": [
    "def load_data(bird):\n",
    "    labels = []\n",
    "    features = []\n",
    "    bird_id = birds_labels[bird]\n",
    "    \n",
    "    path = f'./data/{bird}/'\n",
    "    labels_files = glob.glob(path + '*labels.npy')\n",
    "    counter = None\n",
    "    \n",
    "    for i, file in enumerate(labels_files):\n",
    "        print(f'{bird}: {i + 1}/{len(labels_files)}', end='\\r')\n",
    "        counter = i\n",
    "        data_id = path + ''.join(file.split(\".labels.npy\")).split('/')[-1] + '.npy'\n",
    "        \n",
    "        annotations = np.load(file)\n",
    "        feature = np.load(data_id)\n",
    "        \n",
    "        ind, label = unique_rows(annotations)\n",
    "        \n",
    "        if len(ind) == 0:\n",
    "            continue\n",
    "        \n",
    "        labels.append(label)\n",
    "        features.append(feature[ind])\n",
    "\n",
    "    print('\\n')\n",
    "    labels = np.concatenate(labels)\n",
    "    features = np.concatenate(features)\n",
    "    \n",
    "    return labels, features"
   ]
  },
  {
   "cell_type": "code",
   "execution_count": 19,
   "id": "d9d88870",
   "metadata": {},
   "outputs": [
    {
     "name": "stdout",
     "output_type": "stream",
     "text": [
      "comcuc: 200/200\n",
      "\n",
      "cowpig1: 200/200\n",
      "\n",
      "eucdov: 200/200\n",
      "\n",
      "eueowl1: 200/200\n",
      "\n",
      "grswoo: 200/200\n",
      "\n",
      "tawowl1: 200/200\n",
      "\n"
     ]
    }
   ],
   "source": [
    "X = []\n",
    "y = []\n",
    "\n",
    "for bird in birds:\n",
    "    labels, features = load_data(bird)\n",
    "    X.append(features)\n",
    "    y.append(labels)\n",
    "    \n",
    "X = np.concatenate(X)\n",
    "y = np.concatenate(y)"
   ]
  },
  {
   "cell_type": "code",
   "execution_count": 20,
   "id": "5465ac29",
   "metadata": {},
   "outputs": [],
   "source": [
    "# Apply MinMaxScaler to make the data non-negative\n",
    "scaler = MinMaxScaler(feature_range=(0, 1))\n",
    "X = scaler.fit_transform(X)\n",
    "\n",
    "# Perform feature selection\n",
    "k_best_selector = SelectKBest(chi2, k=32)  # Select 2 best features\n",
    "X_selected = k_best_selector.fit_transform(X, y)\n",
    "\n",
    "# Print the selected features\n",
    "selected_feature_indices = k_best_selector.get_support(indices=True)\n",
    "# selected_feature_names = [data.feature_names[i] for i in selected_feature_indices]\n",
    "# print(\"Selected Features:\", selected_feature_names)"
   ]
  },
  {
   "cell_type": "code",
   "execution_count": 21,
   "id": "bb4b7d58",
   "metadata": {},
   "outputs": [
    {
     "data": {
      "text/plain": [
       "(85500, 32)"
      ]
     },
     "execution_count": 21,
     "metadata": {},
     "output_type": "execute_result"
    }
   ],
   "source": [
    "X = X_selected\n",
    "X.shape"
   ]
  },
  {
   "cell_type": "markdown",
   "id": "bdda15dc",
   "metadata": {},
   "source": [
    "# Gradient Boosting"
   ]
  },
  {
   "cell_type": "code",
   "execution_count": 22,
   "id": "28fd9296",
   "metadata": {},
   "outputs": [],
   "source": [
    "from sklearn.ensemble import GradientBoostingClassifier\n",
    "from sklearn.model_selection import KFold\n",
    "from sklearn.metrics import accuracy_score"
   ]
  },
  {
   "cell_type": "code",
   "execution_count": null,
   "id": "02b8e96e",
   "metadata": {},
   "outputs": [
    {
     "name": "stdout",
     "output_type": "stream",
     "text": [
      "n = 100, lr = 0.1, m = 3\n",
      "Fold = 0\n",
      "Fold = 1\n",
      "Fold = 2\n",
      "Fold = 3\n",
      "Fold = 4\n",
      "Accuracy 0.9278011695906432\n",
      "n = 100, lr = 0.1, m = 4\n",
      "Fold = 0\n",
      "Fold = 1\n",
      "Fold = 2\n",
      "Fold = 3\n",
      "Fold = 4\n",
      "Accuracy 0.9321637426900585\n",
      "n = 100, lr = 0.1, m = 5\n",
      "Fold = 0\n",
      "Fold = 1\n",
      "Fold = 2\n",
      "Fold = 3\n",
      "Fold = 4\n",
      "Accuracy 0.934608187134503\n",
      "n = 100, lr = 0.01, m = 3\n",
      "Fold = 0\n",
      "Fold = 1\n",
      "Fold = 2\n",
      "Fold = 3\n",
      "Fold = 4\n",
      "Accuracy 0.8908070175438597\n",
      "n = 100, lr = 0.01, m = 4\n",
      "Fold = 0\n",
      "Fold = 1\n",
      "Fold = 2\n",
      "Fold = 3\n",
      "Fold = 4\n",
      "Accuracy 0.9011345029239767\n",
      "n = 100, lr = 0.01, m = 5\n",
      "Fold = 0\n",
      "Fold = 1\n",
      "Fold = 2\n",
      "Fold = 3\n"
     ]
    }
   ],
   "source": [
    "# Create a Gradient Boosting Classifier\n",
    "gb_classifier = GradientBoostingClassifier()\n",
    "\n",
    "# Perform k-fold cross-validation\n",
    "kfold = KFold(n_splits=5, shuffle=True, random_state=42)\n",
    "\n",
    "# Lists to store accuracy scores for each fold\n",
    "\n",
    "\n",
    "\n",
    "n_estimators = [100, 200, 300] # Number of boosting stages\n",
    "learning_rate = [0.1, 0.01, 0.001] # Learning rate\n",
    "max_depth = [3, 4, 5]  # Maximum depth of each tree\n",
    "\n",
    "\n",
    "for n in n_estimators:\n",
    "    for l in learning_rate:\n",
    "        for m in max_depth:\n",
    "            gb_classifier = GradientBoostingClassifier(n_estimators=n, learning_rate=l, max_depth=m)\n",
    "            print(f\"n = {n}, lr = {l}, m = {m}\")\n",
    "            accuracy_scores = []\n",
    "            \n",
    "            # Iterate over each fold\n",
    "            for i, (train_index, test_index) in enumerate(kfold.split(X)):\n",
    "                # Split the data into train and test sets for the fold\n",
    "                print(f\"Fold = {i}\")\n",
    "                X_train, X_test = X[train_index], X[test_index]\n",
    "                y_train, y_test = y[train_index], y[test_index]\n",
    "\n",
    "                # Fit the Gradient Boosting Classifier on the training data\n",
    "                gb_classifier.fit(X_train, y_train)\n",
    "\n",
    "                # Predict the labels for the test data\n",
    "                y_pred = gb_classifier.predict(X_test)\n",
    "\n",
    "                # Calculate the accuracy score for the fold\n",
    "                accuracy = accuracy_score(y_test, y_pred)\n",
    "\n",
    "                # Store the accuracy score\n",
    "                accuracy_scores.append(accuracy)\n",
    "            print(f\"Accuracy {np.mean(accuracy_scores)}\")\n",
    "\n",
    "# Calculate the average accuracy across all folds\n",
    "average_accuracy = sum(accuracy_scores) / len(accuracy_scores)\n",
    "\n",
    "# Print the average accuracy\n",
    "print(\"Average Accuracy:\", average_accuracy)\n"
   ]
  },
  {
   "cell_type": "code",
   "execution_count": null,
   "id": "020015f2",
   "metadata": {},
   "outputs": [],
   "source": []
  },
  {
   "cell_type": "code",
   "execution_count": null,
   "id": "1c6c892a",
   "metadata": {},
   "outputs": [],
   "source": []
  },
  {
   "cell_type": "code",
   "execution_count": null,
   "id": "9e91b64b",
   "metadata": {},
   "outputs": [],
   "source": []
  },
  {
   "cell_type": "code",
   "execution_count": null,
   "id": "1876bc96",
   "metadata": {},
   "outputs": [],
   "source": []
  },
  {
   "cell_type": "code",
   "execution_count": null,
   "id": "26a4a754",
   "metadata": {},
   "outputs": [],
   "source": []
  },
  {
   "cell_type": "code",
   "execution_count": null,
   "id": "019beefa",
   "metadata": {},
   "outputs": [],
   "source": []
  },
  {
   "cell_type": "code",
   "execution_count": null,
   "id": "706253d8",
   "metadata": {},
   "outputs": [],
   "source": []
  },
  {
   "cell_type": "code",
   "execution_count": null,
   "id": "11e34d87",
   "metadata": {},
   "outputs": [],
   "source": []
  },
  {
   "cell_type": "code",
   "execution_count": null,
   "id": "f42071f9",
   "metadata": {},
   "outputs": [],
   "source": []
  },
  {
   "cell_type": "code",
   "execution_count": null,
   "id": "d9b67a6a",
   "metadata": {},
   "outputs": [],
   "source": []
  },
  {
   "cell_type": "code",
   "execution_count": null,
   "id": "a40237fe",
   "metadata": {},
   "outputs": [],
   "source": []
  },
  {
   "cell_type": "code",
   "execution_count": null,
   "id": "a8e7f3a2",
   "metadata": {},
   "outputs": [],
   "source": []
  },
  {
   "cell_type": "code",
   "execution_count": null,
   "id": "ea83935d",
   "metadata": {},
   "outputs": [],
   "source": []
  },
  {
   "cell_type": "code",
   "execution_count": null,
   "id": "28eb5cec",
   "metadata": {},
   "outputs": [],
   "source": []
  },
  {
   "cell_type": "code",
   "execution_count": null,
   "id": "a61777c3",
   "metadata": {},
   "outputs": [],
   "source": []
  }
 ],
 "metadata": {
  "kernelspec": {
   "display_name": "Python 3 (ipykernel)",
   "language": "python",
   "name": "python3"
  },
  "language_info": {
   "codemirror_mode": {
    "name": "ipython",
    "version": 3
   },
   "file_extension": ".py",
   "mimetype": "text/x-python",
   "name": "python",
   "nbconvert_exporter": "python",
   "pygments_lexer": "ipython3",
   "version": "3.11.3"
  }
 },
 "nbformat": 4,
 "nbformat_minor": 5
}
