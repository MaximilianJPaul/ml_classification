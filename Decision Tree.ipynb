{
 "cells": [
  {
   "cell_type": "code",
   "execution_count": 2,
   "id": "4edf25e9",
   "metadata": {},
   "outputs": [
    {
     "name": "stdout",
     "output_type": "stream",
     "text": [
      "Intel MKL WARNING: Support of Intel(R) Streaming SIMD Extensions 4.2 (Intel(R) SSE4.2) enabled only processors has been deprecated. Intel oneAPI Math Kernel Library 2025.0 will require Intel(R) Advanced Vector Extensions (Intel(R) AVX) instructions.\n",
      "Intel MKL WARNING: Support of Intel(R) Streaming SIMD Extensions 4.2 (Intel(R) SSE4.2) enabled only processors has been deprecated. Intel oneAPI Math Kernel Library 2025.0 will require Intel(R) Advanced Vector Extensions (Intel(R) AVX) instructions.\n"
     ]
    }
   ],
   "source": [
    "%store -r X_small y"
   ]
  },
  {
   "cell_type": "code",
   "execution_count": 39,
   "id": "91818ffa",
   "metadata": {},
   "outputs": [],
   "source": [
    "from sklearn.tree import DecisionTreeClassifier\n",
    "from sklearn.metrics import accuracy_score\n",
    "from sklearn.model_selection import KFold\n",
    "import numpy as np\n",
    "import matplotlib.pyplot as plt\n",
    "import time\n",
    "from sklearn import tree"
   ]
  },
  {
   "cell_type": "markdown",
   "id": "6c69f9cb",
   "metadata": {},
   "source": [
    "### Decision Tree Clasifier"
   ]
  },
  {
   "cell_type": "code",
   "execution_count": 3,
   "id": "ec09e4e4",
   "metadata": {},
   "outputs": [
    {
     "data": {
      "text/plain": [
       "(85500, 50)"
      ]
     },
     "execution_count": 3,
     "metadata": {},
     "output_type": "execute_result"
    }
   ],
   "source": [
    "X_small.shape"
   ]
  },
  {
   "cell_type": "code",
   "execution_count": 43,
   "id": "b741a198",
   "metadata": {},
   "outputs": [],
   "source": [
    "n_splits = 5\n",
    "kf = KFold(n_splits=n_splits, shuffle=True, random_state=42)\n",
    "\n",
    "time_res = []\n",
    "average_scores = []\n",
    "criterions = ['gini', 'entropy', 'log_loss']"
   ]
  },
  {
   "cell_type": "code",
   "execution_count": 44,
   "id": "bcf46d24",
   "metadata": {},
   "outputs": [
    {
     "name": "stdout",
     "output_type": "stream",
     "text": [
      "gini - Done\n",
      "\n",
      "entropy - Done\n",
      "\n",
      "log_loss - Done\n",
      "\n"
     ]
    }
   ],
   "source": [
    "for criterion in criterions:\n",
    "    accuracy_scores = []\n",
    "    \n",
    "    start_time = time.time()\n",
    "    for i, (train_index, test_index) in enumerate(kf.split(X_small, y)):\n",
    "        print(f'{criterion} {i}/{n_splits}', end='\\r')\n",
    "        X_train, X_test = X_small[train_index], X_small[test_index]\n",
    "        y_train, y_test = y[train_index], y[test_index]\n",
    "\n",
    "        clf = DecisionTreeClassifier(criterion=criterion)\n",
    "        clf.fit(X_train, y_train)\n",
    "\n",
    "        y_pred = clf.predict(X_test)\n",
    "        accuracy = accuracy_score(y_test, y_pred)\n",
    "\n",
    "        accuracy_scores.append(accuracy)\n",
    "    elapsed_time = time.time() - start_time\n",
    "    time_res.append(elapsed_time)\n",
    "    print(f'{criterion} - Done', end='\\r')\n",
    "    print('\\n')\n",
    "    \n",
    "    average_scores.append(np.mean(accuracy_scores))"
   ]
  },
  {
   "cell_type": "code",
   "execution_count": 46,
   "id": "0270ae44",
   "metadata": {},
   "outputs": [
    {
     "data": {
      "text/plain": [
       "[66.45087909698486, 49.46543622016907, 49.91943287849426]"
      ]
     },
     "execution_count": 46,
     "metadata": {},
     "output_type": "execute_result"
    }
   ],
   "source": [
    "time_res"
   ]
  },
  {
   "cell_type": "code",
   "execution_count": 36,
   "id": "ab13c9ab",
   "metadata": {},
   "outputs": [
    {
     "data": {
      "text/plain": [
       "Text(0.5, 1.0, 'Decision Tree')"
      ]
     },
     "execution_count": 36,
     "metadata": {},
     "output_type": "execute_result"
    },
    {
     "data": {
      "image/png": "[encoded data removed]",
      "text/plain": [
       "<Figure size 640x480 with 1 Axes>"
      ]
     },
     "metadata": {},
     "output_type": "display_data"
    }
   ],
   "source": [
    "plt.bar(criterions, time_res)\n",
    "\n",
    "plt.xlabel('Criterion')\n",
    "plt.ylabel('Time (seconds)')\n",
    "plt.title('Decision Tree')"
   ]
  },
  {
   "cell_type": "markdown",
   "id": "0ade13e2",
   "metadata": {},
   "source": [
    "### Baseline Model"
   ]
  },
  {
   "cell_type": "code",
   "execution_count": 27,
   "id": "1062efcf",
   "metadata": {},
   "outputs": [],
   "source": [
    "n_splits = 5\n",
    "kf = KFold(n_splits=n_splits, shuffle=True, random_state=42)\n",
    "\n",
    "accuracy_scores = []"
   ]
  },
  {
   "cell_type": "code",
   "execution_count": 32,
   "id": "02836b27",
   "metadata": {},
   "outputs": [
    {
     "name": "stdout",
     "output_type": "stream",
     "text": [
      "66.41020703315735\n"
     ]
    }
   ],
   "source": [
    "start_time = time.time()\n",
    "for i, (train_index, test_index) in enumerate(kf.split(X_small, y)):\n",
    "    print(f'{criterion} {i}/{n_splits}', end='\\r')\n",
    "    X_train, X_test = X_small[train_index], X_small[test_index]\n",
    "    y_train, y_test = y[train_index], y[test_index]\n",
    "\n",
    "    clf = DecisionTreeClassifier()\n",
    "    clf.fit(X_train, y_train)\n",
    "\n",
    "    y_pred = clf.predict(X_test)\n",
    "    accuracy = accuracy_score(y_test, y_pred)\n",
    "\n",
    "    accuracy_scores.append(accuracy)\n",
    "    \n",
    "elapsed_time = time.time() - start_time\n",
    "print(elapsed_time)"
   ]
  },
  {
   "cell_type": "code",
   "execution_count": 29,
   "id": "3a7e9e30",
   "metadata": {},
   "outputs": [
    {
     "data": {
      "text/plain": [
       "Text(0.5, 1.0, 'Decision Tree')"
      ]
     },
     "execution_count": 29,
     "metadata": {},
     "output_type": "execute_result"
    },
    {
     "data": {
      "image/png": "[encoded data removed]",
      "text/plain": [
       "<Figure size 640x480 with 1 Axes>"
      ]
     },
     "metadata": {},
     "output_type": "display_data"
    }
   ],
   "source": [
    "plt.bar(['baseline model'], np.mean(accuracy_scores))\n",
    "\n",
    "plt.ylabel('Accuracy')\n",
    "plt.title('Decision Tree')"
   ]
  },
  {
   "cell_type": "code",
   "execution_count": 30,
   "id": "6cea57df",
   "metadata": {},
   "outputs": [
    {
     "data": {
      "text/plain": [
       "0.9372397660818713"
      ]
     },
     "execution_count": 30,
     "metadata": {},
     "output_type": "execute_result"
    }
   ],
   "source": [
    "np.mean(accuracy_scores)"
   ]
  },
  {
   "cell_type": "code",
   "execution_count": 41,
   "id": "0977b75f",
   "metadata": {},
   "outputs": [
    {
     "ename": "AttributeError",
     "evalue": "'DecisionTreeClassifier' object has no attribute 'feature_names_in_'",
     "output_type": "error",
     "traceback": [
      "\u001b[0;31m---------------------------------------------------------------------------\u001b[0m",
      "\u001b[0;31mAttributeError\u001b[0m                            Traceback (most recent call last)",
      "Cell \u001b[0;32mIn[41], line 2\u001b[0m\n\u001b[1;32m      1\u001b[0m plt\u001b[38;5;241m.\u001b[39mfigure(figsize\u001b[38;5;241m=\u001b[39m(\u001b[38;5;241m10\u001b[39m, \u001b[38;5;241m8\u001b[39m))\n\u001b[0;32m----> 2\u001b[0m tree\u001b[38;5;241m.\u001b[39mplot_tree(clf, feature_names\u001b[38;5;241m=\u001b[39mclf\u001b[38;5;241m.\u001b[39mfeature_names_in_, class_names\u001b[38;5;241m=\u001b[39mclf\u001b[38;5;241m.\u001b[39mtarget_names, filled\u001b[38;5;241m=\u001b[39m\u001b[38;5;28;01mTrue\u001b[39;00m)\n\u001b[1;32m      3\u001b[0m plt\u001b[38;5;241m.\u001b[39mshow()\n",
      "\u001b[0;31mAttributeError\u001b[0m: 'DecisionTreeClassifier' object has no attribute 'feature_names_in_'"
     ]
    },
    {
     "data": {
      "text/plain": [
       "<Figure size 1000x800 with 0 Axes>"
      ]
     },
     "metadata": {},
     "output_type": "display_data"
    }
   ],
   "source": [
    "plt.figure(figsize=(10, 8))\n",
    "tree.plot_tree(clf, feature_names=clf.feature_names_in_, class_names=clf.target_names, filled=True)\n",
    "plt.show()"
   ]
  },
  {
   "cell_type": "code",
   "execution_count": null,
   "id": "37f0d228",
   "metadata": {},
   "outputs": [],
   "source": []
  }
 ],
 "metadata": {
  "kernelspec": {
   "display_name": "Python 3 (ipykernel)",
   "language": "python",
   "name": "python3"
  },
  "language_info": {
   "codemirror_mode": {
    "name": "ipython",
    "version": 3
   },
   "file_extension": ".py",
   "mimetype": "text/x-python",
   "name": "python",
   "nbconvert_exporter": "python",
   "pygments_lexer": "ipython3",
   "version": "3.11.3"
  }
 },
 "nbformat": 4,
 "nbformat_minor": 5
}
